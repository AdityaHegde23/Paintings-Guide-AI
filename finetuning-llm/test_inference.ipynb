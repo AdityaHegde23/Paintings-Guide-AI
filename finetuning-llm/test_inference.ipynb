{
 "cells": [
  {
   "cell_type": "code",
   "execution_count": 2,
   "id": "51f6348c",
   "metadata": {},
   "outputs": [
    {
     "name": "stdout",
     "output_type": "stream",
     "text": [
      "VRAM used: 4.04 GB\n",
      "Loading with proper quantization config...\n"
     ]
    },
    {
     "name": "stderr",
     "output_type": "stream",
     "text": [
      "Loading checkpoint shards: 100%|██████████| 3/3 [00:15<00:00,  5.21s/it]\n"
     ]
    }
   ],
   "source": [
    "import torch\n",
    "from transformers import AutoModelForCausalLM, AutoTokenizer, BitsAndBytesConfig\n",
    "from peft import PeftModel\n",
    "import os\n",
    "\n",
    "os.environ[\"BITSANDBYTES_NOWELCOME\"] = \"1\"\n",
    "if torch.cuda.is_available():\n",
    "    print(f\"VRAM used: {torch.cuda.memory_allocated() / 1024**3:.2f} GB\")\n",
    "\n",
    "print(\"Loading with proper quantization config...\")\n",
    "\n",
    "# Proper quantization config\n",
    "quantization_config = BitsAndBytesConfig(\n",
    "    load_in_4bit=True,\n",
    "    bnb_4bit_quant_type=\"nf4\",\n",
    "    bnb_4bit_use_double_quant=True,\n",
    "    bnb_4bit_compute_dtype=torch.float16,\n",
    ")\n",
    "\n",
    "# Load base model with proper config\n",
    "base_model = AutoModelForCausalLM.from_pretrained(\n",
    "    \"mistralai/Mistral-7B-Instruct-v0.3\",\n",
    "    quantization_config=quantization_config,\n",
    "    torch_dtype=torch.float16,\n",
    "    device_map=\"auto\"\n",
    ")\n",
    "\n"
   ]
  },
  {
   "cell_type": "code",
   "execution_count": 3,
   "id": "c5e5dd55",
   "metadata": {},
   "outputs": [
    {
     "name": "stdout",
     "output_type": "stream",
     "text": [
      "Model loaded successfully!\n"
     ]
    }
   ],
   "source": [
    "# Load tokenizer\n",
    "tokenizer = AutoTokenizer.from_pretrained(\"mistralai/Mistral-7B-Instruct-v0.3\")\n",
    "if tokenizer.pad_token is None:\n",
    "    tokenizer.pad_token = tokenizer.eos_token\n",
    "\n",
    "# Load your trained adapter\n",
    "model = PeftModel.from_pretrained(base_model, \"./trained-models/paintings-audio-guide-final\")\n",
    "model.eval()\n",
    "\n",
    "print(\"Model loaded successfully!\")"
   ]
  },
  {
   "cell_type": "code",
   "execution_count": 4,
   "id": "cb6f0207",
   "metadata": {},
   "outputs": [],
   "source": [
    "# Test function\n",
    "def test_model(title, artist, date, medium, dimensions=\"Not specified\"):\n",
    "    prompt = f\"\"\"Title: {title}\n",
    "Artist: {artist}\n",
    "Date: {date}\n",
    "Medium: {medium}\n",
    "Dimensions: {dimensions}\n",
    "\n",
    "Audio guide:\"\"\"\n",
    "    \n",
    "    inputs = tokenizer(prompt, return_tensors=\"pt\").to(model.device)\n",
    "    \n",
    "    with torch.no_grad():\n",
    "        outputs = model.generate(\n",
    "            **inputs,\n",
    "            max_new_tokens=100,\n",
    "            temperature=0.7,\n",
    "            do_sample=True,\n",
    "            pad_token_id=tokenizer.eos_token_id,\n",
    "            eos_token_id=tokenizer.eos_token_id,\n",
    "            repetition_penalty=1.1,\n",
    "        )\n",
    "    \n",
    "    result = tokenizer.decode(outputs[0], skip_special_tokens=True)\n",
    "    completion = result[len(prompt):].strip()\n",
    "    \n",
    "    # Clean up if it has <END>\n",
    "    if \"<END>\" in completion:\n",
    "        completion = completion.split(\"<END>\")[0].strip()\n",
    "    \n",
    "    return completion"
   ]
  },
  {
   "cell_type": "code",
   "execution_count": 5,
   "id": "d5cc72c1",
   "metadata": {},
   "outputs": [
    {
     "name": "stdout",
     "output_type": "stream",
     "text": [
      "============================================================\n",
      "TEST 1: Girl with a Pearl Earring\n",
      "============================================================\n",
      "Discover Girl with a Pearl Earring, where Johannes Vermeer's refined technique shines through this 17.5 × 15.6 in (44.5 × 39.4 cm) Oil on canvas. Created in c. 1665, the expressive lines demonstrates skill Notice the interplay of light and shadow reflecting the artistic values of its time\n",
      "\n",
      "============================================================\n",
      "TEST 2: The Starry Night\n",
      "============================================================\n",
      "Experience Vincent van Gogh's influential masterpiece The Starry Night, 29 × 36 1/4 in (73.7 × 92.1 cm) of Oil on canvas from 1889. The subtle approach The 29 × 36 1/4 in (73.7 × 92.1 cm) scale enhances the impact Vincent van Gogh's dynamic energy is evident throughout creating an\n",
      "\n",
      "============================================================\n",
      "TEST 3: Dutch Girl in White (From Training)\n",
      "============================================================\n",
      "Journey to the world of 1907 through Robert Henri's Dutch Girl in White, created in 1907. This 24 x 20 in. (61 x 50.8 cm) Oil on canvas showcases dynamic energy The dramatic lighting creates depth while the dynamic composition invites close contemplation\n"
     ]
    }
   ],
   "source": [
    "# Test 1: Girl with a Pearl Earring\n",
    "print(\"=\" * 60)\n",
    "print(\"TEST 1: Girl with a Pearl Earring\")\n",
    "print(\"=\" * 60)\n",
    "result1 = test_model(\n",
    "    \"Girl with a Pearl Earring\",\n",
    "    \"Johannes Vermeer\",\n",
    "    \"c. 1665\",\n",
    "    \"Oil on canvas\",\n",
    "    \"17.5 × 15.6 in (44.5 × 39.4 cm)\"\n",
    ")\n",
    "print(result1)\n",
    "\n",
    "# Test 2: The Starry Night  \n",
    "print(\"\\n\" + \"=\" * 60)\n",
    "print(\"TEST 2: The Starry Night\")\n",
    "print(\"=\" * 60)\n",
    "result2 = test_model(\n",
    "    \"The Starry Night\",\n",
    "    \"Vincent van Gogh\",\n",
    "    \"1889\",\n",
    "    \"Oil on canvas\", \n",
    "    \"29 × 36 1/4 in (73.7 × 92.1 cm)\"\n",
    ")\n",
    "print(result2)\n",
    "\n",
    "# Test 3: From your training data\n",
    "print(\"\\n\" + \"=\" * 60)\n",
    "print(\"TEST 3: Dutch Girl in White (From Training)\")\n",
    "print(\"=\" * 60)\n",
    "result3 = test_model(\n",
    "    \"Dutch Girl in White\",\n",
    "    \"Robert Henri\", \n",
    "    \"1907\",\n",
    "    \"Oil on canvas\",\n",
    "    \"24 x 20 in. (61 x 50.8 cm)\"\n",
    ")\n",
    "print(result3)"
   ]
  },
  {
   "cell_type": "code",
   "execution_count": null,
   "id": "76aca167",
   "metadata": {},
   "outputs": [],
   "source": []
  }
 ],
 "metadata": {
  "kernelspec": {
   "display_name": ".venv",
   "language": "python",
   "name": "python3"
  },
  "language_info": {
   "codemirror_mode": {
    "name": "ipython",
    "version": 3
   },
   "file_extension": ".py",
   "mimetype": "text/x-python",
   "name": "python",
   "nbconvert_exporter": "python",
   "pygments_lexer": "ipython3",
   "version": "3.12.3"
  }
 },
 "nbformat": 4,
 "nbformat_minor": 5
}
